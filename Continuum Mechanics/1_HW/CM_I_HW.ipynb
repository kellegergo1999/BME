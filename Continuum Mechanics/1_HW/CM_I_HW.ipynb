{
 "cells": [
  {
   "cell_type": "markdown",
   "id": "2e21667a",
   "metadata": {},
   "source": [
    "CM I. HW"
   ]
  },
  {
   "cell_type": "markdown",
   "id": "34bb50d8",
   "metadata": {},
   "source": [
    "Name: *Gergő KELLE*\n",
    "\n",
    "NEPTUN Code: *GBBNUL*"
   ]
  },
  {
   "cell_type": "markdown",
   "id": "636457bf",
   "metadata": {},
   "source": [
    "**TOC:**\n",
    "* [1. Position of the reference and the spatial configurations](#1)\n",
    "* [2. Displacement vector](#2)\n",
    "* [3. Deformation gradient](#3)\n",
    "* [4. Green-Lagrange and Euler-Almansi strain tensor](#4)\n",
    "* [5. Volume element dv/dV ratio and volume strain](#5)\n",
    "* [6. Isochoric and volumetric parts of the deformation gradient](#6)\n",
    "* [7. Principal stretches](#7)\n",
    "* [8. Engineering strain of a line element](#8)\n",
    "* [9. Surface element da/dA ratio](#9)\n",
    "* [10. Angle of shear material line elements](#10)\n",
    "* [11. Rigid body rotation](#11)\n",
    "* [12. Hencky's strain tensor](#12)"
   ]
  },
  {
   "cell_type": "markdown",
   "id": "3610d284",
   "metadata": {},
   "source": [
    "# Position of the reference and the spatial configurations <a class=\"anchor\" id=\"1\"></a>"
   ]
  },
  {
   "cell_type": "code",
   "execution_count": 1,
   "id": "fc64b961",
   "metadata": {},
   "outputs": [
    {
     "data": {
      "image/png": "[encoded data removed]",
      "text/plain": [
       "<Figure size 576x576 with 1 Axes>"
      ]
     },
     "metadata": {
      "needs_background": "light"
     },
     "output_type": "display_data"
    },
    {
     "name": "stdout",
     "output_type": "stream",
     "text": [
      "Undeformed Gauss Point (G_undef): (2.5, 1.75, 0.0)\n",
      "Deformed Gauss Point (G_def): (7.5, 0.75, 0.0)\n"
     ]
    }
   ],
   "source": [
    "import matplotlib.pyplot as plt\n",
    "import numpy as np\n",
    "import sympy as sp\n",
    "\n",
    "# Coordinates of the undeformed rectangle\n",
    "undeformed_rectangle = {\n",
    "    'Point1': (0, 0, 0),\n",
    "    'Point2': (4, 1, 0),\n",
    "    'Point3': (5, 4, 0),\n",
    "    'Point4': (1, 2, 0)\n",
    "}\n",
    "\n",
    "# Coordinates of the deformed rectangle\n",
    "deformed_rectangle = {\n",
    "    'Point1': (9, -1, 0),\n",
    "    'Point2': (8, 4, 0),\n",
    "    'Point3': (6, 2, 0),\n",
    "    'Point4': (7, -2, 0)\n",
    "}\n",
    "\n",
    "# Extract coordinates to create vectors\n",
    "undeformed_nodes = [undeformed_rectangle[point] for point in sorted(undeformed_rectangle.keys())]\n",
    "deformed_nodes = [deformed_rectangle[point] for point in sorted(deformed_rectangle.keys())]\n",
    "\n",
    "# Calculate the Gauss point for undeformed and deformed elements\n",
    "def calculate_gauss_point(nodes):\n",
    "    num_nodes = len(nodes)\n",
    "    gx, gy, gz = 0, 0, 0\n",
    "    for x, y, z in nodes:\n",
    "        gx += x\n",
    "        gy += y\n",
    "        gz += z\n",
    "    gx /= num_nodes\n",
    "    gy /= num_nodes\n",
    "    gz /= num_nodes\n",
    "    return gx, gy, gz\n",
    "\n",
    "undeformed_gauss_point = calculate_gauss_point(undeformed_nodes)\n",
    "deformed_gauss_point = calculate_gauss_point(deformed_nodes)\n",
    "\n",
    "# Extract x and y coordinates for plotting\n",
    "undeformed_x, undeformed_y, _ = zip(*undeformed_nodes)\n",
    "deformed_x, deformed_y, _ = zip(*deformed_nodes)\n",
    "\n",
    "# Plot the undeformed and deformed rectangles\n",
    "plt.figure(figsize=(8, 8))\n",
    "plt.plot(undeformed_x + (undeformed_x[0],), undeformed_y + (undeformed_y[0],), marker='o', label='Undeformed Rectangle', linestyle='-', color='b')\n",
    "plt.plot(deformed_x + (deformed_x[0],), deformed_y + (deformed_y[0],), marker='o', label='Deformed Rectangle', linestyle='-', color='r')\n",
    "plt.scatter(undeformed_gauss_point[0], undeformed_gauss_point[1], marker='x', color='g', label='Undeformed Gauss Point (G)')\n",
    "plt.scatter(deformed_gauss_point[0], deformed_gauss_point[1], marker='x', color='m', label='Deformed Gauss Point (G)')\n",
    "plt.xlabel('X')\n",
    "plt.ylabel('Y')\n",
    "plt.title('Undeformed vs. Deformed Rectangle with Gauss Points (G)')\n",
    "plt.legend()\n",
    "plt.grid(True)\n",
    "plt.axhline\n",
    "plt.axvline\n",
    "plt.axis('equal')\n",
    "plt.show()\n",
    "\n",
    "# Print the Gauss points\n",
    "print(\"Undeformed Gauss Point (G_undef):\", undeformed_gauss_point)\n",
    "print(\"Deformed Gauss Point (G_def):\", deformed_gauss_point)\n"
   ]
  },
  {
   "cell_type": "markdown",
   "id": "5b193d33",
   "metadata": {},
   "source": [
    "## **2. Displacement vector** <a class=\"anchor\" id=\"2\"></a>"
   ]
  },
  {
   "cell_type": "code",
   "execution_count": 39,
   "id": "a7703ef4",
   "metadata": {},
   "outputs": [
    {
     "name": "stdout",
     "output_type": "stream",
     "text": [
      "displacement vector of G point (U_G) \n",
      " (5.0, -1.0, 0.0)\n"
     ]
    }
   ],
   "source": [
    "# Calculate the displacement vector\n",
    "displacement_vector = (\n",
    "    deformed_gauss_point[0] - undeformed_gauss_point[0],\n",
    "    deformed_gauss_point[1] - undeformed_gauss_point[1],\n",
    "    deformed_gauss_point[2] - undeformed_gauss_point[2]\n",
    ")\n",
    "print(\"displacement vector of G point (U_G)\",'\\n', displacement_vector)"
   ]
  },
  {
   "cell_type": "code",
   "execution_count": 40,
   "id": "c5b3fba1",
   "metadata": {},
   "outputs": [
    {
     "name": "stdout",
     "output_type": "stream",
     "text": [
      "Displacement Matrix (4x3):\n",
      "[[ 9 -1  0]\n",
      " [ 4  3  0]\n",
      " [ 1 -2  0]\n",
      " [ 6 -4  0]]\n"
     ]
    }
   ],
   "source": [
    "# Extract coordinates to create vectors\n",
    "undeformed_nodes = np.array([undeformed_rectangle[point] for point in sorted(undeformed_rectangle.keys())])\n",
    "deformed_nodes = np.array([deformed_rectangle[point] for point in sorted(deformed_rectangle.keys())])\n",
    "\n",
    "# Calculate the displacement matrix\n",
    "displacement_matrix = deformed_nodes - undeformed_nodes\n",
    "\n",
    "# Print the displacement matrix\n",
    "print(\"Displacement Matrix (4x3):\")\n",
    "print(displacement_matrix)"
   ]
  },
  {
   "cell_type": "markdown",
   "id": "d93238da",
   "metadata": {},
   "source": [
    "## **3. Deformation gradient** <a class=\"anchor\" id=\"3\"></a>"
   ]
  },
  {
   "cell_type": "markdown",
   "id": "42b1b2ed",
   "metadata": {},
   "source": [
    "*Due to python's poor symbolic tools or perhabs my level of knowledge about this programming language I've calculated the Deformation gradient in Wolfram Mathematica which is a better, symbolic solvers.*\n",
    "\n",
    "*The code was the following:*"
   ]
  },
  {
   "cell_type": "markdown",
   "id": "f9ce1ecb",
   "metadata": {},
   "source": [
    "ClearAll;\n",
    "X0 = {{0, 0}, {4, 1}, {5, 4}, {1, 2}};\n",
    "U = {{9, -1}, {4, 3}, {1, -2}, {6, -4}};\n",
    "Xt = X0 + U\n",
    "\n",
    "parameters =  {\\[Xi] -> 0, \\[Eta] -> 0};\n",
    "\n",
    "NN = 1/4 {(1 - \\[Xi]) (1 - \\[Eta]), (1 + \\[Xi]) (1 - \\[Eta]), (1 + \\[Xi]) (1 + \\[Eta]), (1 - \\[Xi]) (1 + \\[Eta])};\n",
    "\n",
    "XS0 = {Total[(X0[[All, 1]]*NN)], Total[(X0[[All, 2]]*NN)]}\n",
    "\n",
    "XS1 = {Total[(Xt[[All, 1]]*NN)], Total[(Xt[[All, 2]]*NN)]}\n",
    "\n",
    "N[XS0 /. {\\[Xi] -> 0, \\[Eta] -> 0}]\n",
    "\n",
    "N[XS1 /. {\\[Xi] -> 0, \\[Eta] -> 0}]\n",
    "\n",
    "ux = Expand[U[[All, 1]] . NN]\n",
    "\n",
    "uy = Expand[U[[All, 2]] . NN]\n",
    "\n",
    "Expand[4 ux]\n",
    "\n",
    "Expand[4 uy]\n",
    "\n",
    "x = Simplify[X0[[All, 1]] . NN]\n",
    "\n",
    "y = Simplify[X0[[All, 2]] . NN]\n",
    "\n",
    "Expand[4 x]\n",
    "\n",
    "Expand[4 y]\n",
    "\n",
    "sol = FullSimplify[Solve[{x == XX, y == YY}, {\\[Xi], \\[Eta]}]]\n",
    "\n",
    "N[sol /. {XX -> XS0[[1]], YY -> XS0[[2]]}];\n",
    "\n",
    "UXY = FullSimplify[{ux, uy} /. (sol[[2]])]\n",
    "\n",
    "KK = FullSimplify[Grad[UXY, {XX, YY}]];\n",
    "\n",
    "KK = {{KK[[1, 1]], KK[[1, 2]], 0}, {KK[[2, 1]], KK[[2, 2]], 0}, {0, 0, 0}};\n",
    "\n",
    "MatrixForm[KK]\n",
    "\n",
    "MatrixForm[Expand[KK]]\n",
    "\n",
    "F = Simplify[KK + IdentityMatrix[3]]\n",
    "\n",
    "F // MatrixForm\n",
    "\n",
    "{XX, YY} = N[XS0 /. {\\[Xi] -> 0, \\[Eta] -> 0}];\n",
    "\n",
    "F // MatrixForm"
   ]
  },
  {
   "cell_type": "markdown",
   "id": "13057687",
   "metadata": {},
   "source": [
    "The result of the Wolfram Mathematica code presented above:\n",
    "\n",
    "\n",
    "\n",
    "$$\\textbf{F} = \\begin{bmatrix}\n",
    " 0.0588235 & -0.823529 & 0 \\\\\n",
    " 1.58824 & -1.23529 & 0 \\\\\n",
    " 0 & 0 & 1 \\\\\n",
    "\\end{bmatrix}$$"
   ]
  },
  {
   "cell_type": "code",
   "execution_count": 41,
   "id": "fb2b9aa6",
   "metadata": {},
   "outputs": [],
   "source": [
    "F_X_G = sp.Matrix([[0.05882, -0.8235, 0], [1.588, -1.235, 0], [0, 0, 1]])"
   ]
  },
  {
   "cell_type": "markdown",
   "id": "7cb6983a",
   "metadata": {},
   "source": [
    "## **4. Green-Lagrange and Euler-Almansi strain tensor** <a class=\"anchor\" id=\"4\"></a>"
   ]
  },
  {
   "cell_type": "code",
   "execution_count": 42,
   "id": "d87b09b7",
   "metadata": {},
   "outputs": [
    {
     "name": "stdout",
     "output_type": "stream",
     "text": [
      "Matrix([[2.52520379240000, -2.00961827000000, 0], [-2.00961827000000, 2.20337725000000, 0], [0, 0, 1]])\n"
     ]
    }
   ],
   "source": [
    "# Cauchy-Green deformation tensor\n",
    "C_G = F_X_G.transpose()*F_X_G\n",
    "print(C_G)"
   ]
  },
  {
   "cell_type": "code",
   "execution_count": 43,
   "id": "66db394c",
   "metadata": {},
   "outputs": [
    {
     "data": {
      "text/latex": [
       "$\\displaystyle \\left[\\begin{matrix}0.7626018962 & -1.004809135 & 0\\\\-1.004809135 & 0.601688625 & 0\\\\0 & 0 & 0\\end{matrix}\\right]$"
      ],
      "text/plain": [
       "Matrix([\n",
       "[0.7626018962, -1.004809135, 0],\n",
       "[-1.004809135,  0.601688625, 0],\n",
       "[           0,            0, 0]])"
      ]
     },
     "execution_count": 43,
     "metadata": {},
     "output_type": "execute_result"
    }
   ],
   "source": [
    "# Green-Lagrange strain tensor\n",
    "GL_strain = 1/2*(C_G - sp.eye(3))\n",
    "GL_strain"
   ]
  },
  {
   "cell_type": "code",
   "execution_count": 44,
   "id": "4c24ae8c",
   "metadata": {},
   "outputs": [
    {
     "data": {
      "text/latex": [
       "$\\displaystyle \\left[\\begin{matrix}2.65303515500699 & -0.727953753069842 & 0\\\\-0.727953753069842 & 0.446838290721603 & 0\\\\0 & 0 & 1\\end{matrix}\\right]$"
      ],
      "text/plain": [
       "Matrix([\n",
       "[  2.65303515500699, -0.727953753069842, 0],\n",
       "[-0.727953753069842,  0.446838290721603, 0],\n",
       "[                 0,                  0, 1]])"
      ]
     },
     "execution_count": 44,
     "metadata": {},
     "output_type": "execute_result"
    }
   ],
   "source": [
    "# Cauchy deformation tensor\n",
    "cauchy_d = F_X_G.transpose().inv()* F_X_G.inv()\n",
    "cauchy_d"
   ]
  },
  {
   "cell_type": "code",
   "execution_count": 45,
   "id": "f0003d05",
   "metadata": {},
   "outputs": [
    {
     "data": {
      "text/latex": [
       "$\\displaystyle \\left[\\begin{matrix}-0.826517577503495 & 0.363976876534921 & 0\\\\0.363976876534921 & 0.276580854639198 & 0\\\\0 & 0 & 0\\end{matrix}\\right]$"
      ],
      "text/plain": [
       "Matrix([\n",
       "[-0.826517577503495, 0.363976876534921, 0],\n",
       "[ 0.363976876534921, 0.276580854639198, 0],\n",
       "[                 0,                 0, 0]])"
      ]
     },
     "execution_count": 45,
     "metadata": {},
     "output_type": "execute_result"
    }
   ],
   "source": [
    "#Euler-Almansi strain tensor\n",
    "EA_strain = 1/2*(sp.eye(3)-cauchy_d)\n",
    "EA_strain"
   ]
  },
  {
   "cell_type": "markdown",
   "id": "7e1c4a61",
   "metadata": {},
   "source": [
    "## **5. Volume ratio, volumetric strain** <a class=\"anchor\" id=\"5\"></a>"
   ]
  },
  {
   "cell_type": "code",
   "execution_count": 46,
   "id": "e79fc480",
   "metadata": {},
   "outputs": [
    {
     "data": {
      "text/latex": [
       "$\\displaystyle 1.2350753$"
      ],
      "text/plain": [
       "1.23507530000000"
      ]
     },
     "execution_count": 46,
     "metadata": {},
     "output_type": "execute_result"
    }
   ],
   "source": [
    "#Volume ratio\n",
    "J = sp.det(F_X_G)\n",
    "J"
   ]
  },
  {
   "cell_type": "code",
   "execution_count": 47,
   "id": "0dcdd60b",
   "metadata": {},
   "outputs": [
    {
     "data": {
      "text/latex": [
       "$\\displaystyle 0.2350753$"
      ],
      "text/plain": [
       "0.235075300000000"
      ]
     },
     "execution_count": 47,
     "metadata": {},
     "output_type": "execute_result"
    }
   ],
   "source": [
    "#volumetric strain\n",
    "eps_v= J -1\n",
    "eps_v"
   ]
  },
  {
   "cell_type": "markdown",
   "id": "58417d1b",
   "metadata": {},
   "source": [
    "## **6. Isochoric and volumetric parts of the deformation gradient** <a class=\"anchor\" id=\"6\"></a>"
   ]
  },
  {
   "cell_type": "code",
   "execution_count": 48,
   "id": "74ecf3d8",
   "metadata": {},
   "outputs": [
    {
     "name": "stdout",
     "output_type": "stream",
     "text": [
      "F_ISO:  Matrix([[0.0548227152446906, -0.767536654267302, 0], [1.48008282571521, -1.15107197088053, 0], [0, 0, 0.932042081684641]]) \n",
      " F_VOL:  Matrix([[1.07291292920222, 0, 0], [0, 1.07291292920222, 0], [0, 0, 1.07291292920222]])\n"
     ]
    },
    {
     "data": {
      "text/latex": [
       "$\\displaystyle \\left[\\begin{matrix}0 & 0 & 0\\\\0 & 0 & 0\\\\0 & 0 & 0\\end{matrix}\\right]$"
      ],
      "text/plain": [
       "Matrix([\n",
       "[0, 0, 0],\n",
       "[0, 0, 0],\n",
       "[0, 0, 0]])"
      ]
     },
     "execution_count": 48,
     "metadata": {},
     "output_type": "execute_result"
    }
   ],
   "source": [
    "F_iso = 1/ J**(1/3) * F_X_G\n",
    "F_vol = J**(1/3) * sp.eye(3)\n",
    "print(\"F_ISO: \", F_iso, '\\n', \"F_VOL: \", F_vol)\n",
    "F_iso*F_vol-F_X_G\n",
    "#must be 0 matrix"
   ]
  },
  {
   "cell_type": "markdown",
   "id": "bf7b74fe",
   "metadata": {},
   "source": [
    "## **7. Principal stretches** <a class=\"anchor\" id=\"7\"></a>"
   ]
  },
  {
   "cell_type": "code",
   "execution_count": 49,
   "id": "0fba42f9",
   "metadata": {},
   "outputs": [
    {
     "data": {
      "text/plain": [
       "{4.38034078643797: 1, 0.348240255962033: 1, 1.00000000000000: 1}"
      ]
     },
     "execution_count": 49,
     "metadata": {},
     "output_type": "execute_result"
    }
   ],
   "source": [
    "eigenvalues2= C_G.eigenvals()\n",
    "eigenvalues2"
   ]
  },
  {
   "cell_type": "code",
   "execution_count": 50,
   "id": "e2929fc1",
   "metadata": {},
   "outputs": [
    {
     "name": "stdout",
     "output_type": "stream",
     "text": [
      "lambda1: 2.09292636909137\n",
      "lambda2: 1.00000000000000\n",
      "lambda3: 0.590118849014360\n"
     ]
    }
   ],
   "source": [
    "# Extract eigenvalues and store them in value1, value2, and value3\n",
    "eigenvalue_list = list(eigenvalues2)\n",
    "value1, value2, value3 = eigenvalue_list[:3]  # Assuming there are exactly three eigenvalues\n",
    "lambda1 = value1**(1/2)\n",
    "lambda2 = value3**(1/2)\n",
    "lambda3 = value2**(1/2)\n",
    "\n",
    "# Print the values\n",
    "print(\"lambda1:\", lambda1)\n",
    "print(\"lambda2:\", lambda2)\n",
    "print(\"lambda3:\", lambda3)"
   ]
  },
  {
   "cell_type": "markdown",
   "id": "565eb7b2",
   "metadata": {},
   "source": [
    "## **8. Engineering strain of a line element** <a class=\"anchor\" id=\"8\"></a>"
   ]
  },
  {
   "cell_type": "code",
   "execution_count": 51,
   "id": "f80b6eab",
   "metadata": {},
   "outputs": [
    {
     "name": "stdout",
     "output_type": "stream",
     "text": [
      "Undeformed line length:  3.1622776601683795  mm \n",
      " Deformed line length:  6.082762530298219  mm \n",
      " The line element length changed with:  2.92048487012984  mm \n",
      " Engineering strain of the line element:  0.9235384061671343\n"
     ]
    }
   ],
   "source": [
    "def length(x): \n",
    "    return np.sqrt(sum(i**2 for i in x))\n",
    "\n",
    "L = length(undeformed_nodes[1]- undeformed_nodes[3])\n",
    "l = length(deformed_nodes[1]- deformed_nodes[3])\n",
    "dL = l - L\n",
    "eps_eng = l/L-1\n",
    "print(\"Undeformed line length: \", L, \" mm\", '\\n',\n",
    "        \"Deformed line length: \", l, \" mm\", '\\n',\n",
    "        \"The line element length changed with: \", dL, \" mm\", '\\n',\n",
    "         \"Engineering strain of the line element: \", eps_eng)"
   ]
  },
  {
   "cell_type": "markdown",
   "id": "ef295fc2",
   "metadata": {},
   "source": [
    "## **9. Surface element da/dA ratio** <a class=\"anchor\" id=\"9\"></a>"
   ]
  },
  {
   "cell_type": "code",
   "execution_count": 52,
   "id": "7365ca5d",
   "metadata": {},
   "outputs": [
    {
     "data": {
      "text/latex": [
       "$\\displaystyle \\left[\\begin{matrix}1.2350753\\end{matrix}\\right]$"
      ],
      "text/plain": [
       "Matrix([[1.2350753]])"
      ]
     },
     "execution_count": 52,
     "metadata": {},
     "output_type": "execute_result"
    }
   ],
   "source": [
    "No_1 = sp.Matrix([[1],\n",
    "                 [0],\n",
    "                 [0]])\n",
    "No_2 = sp.Matrix([[0],\n",
    "                 [1],\n",
    "                 [0]])\n",
    "No_3 = sp.Matrix([[0],\n",
    "                 [0],\n",
    "                 [1]])\n",
    "\n",
    "AA = F_X_G.inv() * F_X_G.transpose().inv()\n",
    "sp.det(F_X_G) * (No_3.T*AA*No_3)**(1/2)"
   ]
  },
  {
   "cell_type": "markdown",
   "id": "2cb17262",
   "metadata": {},
   "source": [
    "## **10. Angle of shear material line elements** <a class=\"anchor\" id=\"10\"></a>"
   ]
  },
  {
   "cell_type": "code",
   "execution_count": 53,
   "id": "d4282586",
   "metadata": {},
   "outputs": [
    {
     "name": "stdout",
     "output_type": "stream",
     "text": [
      "Lambda_N1:  1.58908898190127\n",
      "Lambda_N2:  1.48437773157643\n"
     ]
    }
   ],
   "source": [
    "lamndba_N1 = (No_1.T*C_G*No_1)**(1/2)\n",
    "lamndba_N1_value = lamndba_N1[0]\n",
    "lamndba_N2 = (No_2.T*C_G*No_2)**(1/2)\n",
    "lamndba_N2_value = lamndba_N2[0]\n",
    "print(\"Lambda_N1: \", lamndba_N1_value)\n",
    "print(\"Lambda_N2: \", lamndba_N2_value)"
   ]
  },
  {
   "cell_type": "code",
   "execution_count": 54,
   "id": "28549750",
   "metadata": {},
   "outputs": [
    {
     "name": "stdout",
     "output_type": "stream",
     "text": [
      "-1.019723676858753 rad \n",
      " -58.42586295356872 °\n"
     ]
    }
   ],
   "source": [
    "tmp = No_1.T*C_G*No_2\n",
    "tmp_value = tmp[0]\n",
    "\n",
    "import math as m\n",
    "rad = m.pi/2 - m.acos((tmp_value)/(lamndba_N1_value* lamndba_N2_value))\n",
    "deg = rad*180 / m.pi\n",
    "print(rad,\"rad\", '\\n',deg, \"°\")"
   ]
  },
  {
   "cell_type": "markdown",
   "id": "dd617c1e",
   "metadata": {},
   "source": [
    "## **11. Rigid body rotation** <a class=\"anchor\" id=\"11\"></a>"
   ]
  },
  {
   "cell_type": "code",
   "execution_count": 55,
   "id": "d91b929a",
   "metadata": {},
   "outputs": [
    {
     "data": {
      "text/latex": [
       "$\\displaystyle \\left[\\begin{matrix}1.40149672731003 & -0.749006485779179 & 0\\\\-0.749006485779179 & 1.2815484907957 & 0\\\\0 & 0 & 1.0\\end{matrix}\\right]$"
      ],
      "text/plain": [
       "Matrix([\n",
       "[  1.40149672731003, -0.749006485779179,   0],\n",
       "[-0.749006485779179,    1.2815484907957,   0],\n",
       "[                 0,                  0, 1.0]])"
      ]
     },
     "execution_count": 55,
     "metadata": {},
     "output_type": "execute_result"
    }
   ],
   "source": [
    "UU = (C_G)**(1/2)\n",
    "UU"
   ]
  },
  {
   "cell_type": "code",
   "execution_count": 56,
   "id": "f75af754",
   "metadata": {},
   "outputs": [
    {
     "data": {
      "text/latex": [
       "$\\displaystyle \\left[\\begin{matrix}-0.438375019572127 & -0.898792157406337 & 0\\\\0.898792157406337 & -0.438375019572127 & 0\\\\0 & 0 & 1.0\\end{matrix}\\right]$"
      ],
      "text/plain": [
       "Matrix([\n",
       "[-0.438375019572127, -0.898792157406337,   0],\n",
       "[ 0.898792157406337, -0.438375019572127,   0],\n",
       "[                 0,                  0, 1.0]])"
      ]
     },
     "execution_count": 56,
     "metadata": {},
     "output_type": "execute_result"
    }
   ],
   "source": [
    "R = F_X_G * UU.inv()\n",
    "R"
   ]
  },
  {
   "cell_type": "code",
   "execution_count": 57,
   "id": "1eaaf6d6",
   "metadata": {
    "scrolled": true
   },
   "outputs": [
    {
     "name": "stdout",
     "output_type": "stream",
     "text": [
      "2.0245862411838864 rad \n",
      " 116.00024688009206 °\n"
     ]
    }
   ],
   "source": [
    "theta_rad = m.acos((np.trace(R) - 1) /2)\n",
    "theta_deg = theta_rad *180 / m.pi\n",
    "print(theta_rad,\"rad\", '\\n',theta_deg, \"°\")"
   ]
  },
  {
   "cell_type": "code",
   "execution_count": 58,
   "id": "d9873853",
   "metadata": {},
   "outputs": [
    {
     "data": {
      "text/latex": [
       "$\\displaystyle \\left[\\begin{matrix}0 & -1.0 & 0\\\\1.0 & 0 & 0\\\\0 & 0 & 0\\end{matrix}\\right]$"
      ],
      "text/plain": [
       "Matrix([\n",
       "[  0, -1.0, 0],\n",
       "[1.0,    0, 0],\n",
       "[  0,    0, 0]])"
      ]
     },
     "execution_count": 58,
     "metadata": {},
     "output_type": "execute_result"
    }
   ],
   "source": [
    "NN = (R - R.transpose())/(2*m.sin(theta_rad))\n",
    "NN"
   ]
  },
  {
   "cell_type": "markdown",
   "id": "ffded3d0",
   "metadata": {},
   "source": [
    "## **12. Hencky's strain tensor** <a class=\"anchor\" id=\"12\"></a>"
   ]
  },
  {
   "cell_type": "code",
   "execution_count": 59,
   "id": "a7ee1147",
   "metadata": {},
   "outputs": [
    {
     "data": {
      "text/latex": [
       "$\\displaystyle \\left[\\begin{matrix}0.714370122972886 & 0.413868783316287 & 0\\\\0.413868783316288 & 1.96867509513284 & 0\\\\0 & 0 & 1.0\\end{matrix}\\right]$"
      ],
      "text/plain": [
       "Matrix([\n",
       "[0.714370122972886, 0.413868783316287,   0],\n",
       "[0.413868783316288,  1.96867509513284,   0],\n",
       "[                0,                 0, 1.0]])"
      ]
     },
     "execution_count": 59,
     "metadata": {},
     "output_type": "execute_result"
    }
   ],
   "source": [
    "V = F_X_G * R.transpose()\n",
    "V"
   ]
  },
  {
   "cell_type": "code",
   "execution_count": 60,
   "id": "ee9414e5",
   "metadata": {},
   "outputs": [
    {
     "data": {
      "text/plain": [
       "array([[-0.42275961,  0.3486512 ,  0.        ],\n",
       "       [ 0.3486512 ,  0.63389155,  0.        ],\n",
       "       [ 0.        ,  0.        ,  0.        ]])"
      ]
     },
     "execution_count": 60,
     "metadata": {},
     "output_type": "execute_result"
    }
   ],
   "source": [
    "import scipy.linalg\n",
    "V = np.dot(F_X_G, R.transpose())\n",
    "VV = np.array(V).astype(float)\n",
    "scipy.linalg.logm(VV)"
   ]
  }
 ],
 "metadata": {
  "kernelspec": {
   "display_name": "Python 3 (ipykernel)",
   "language": "python",
   "name": "python3"
  },
  "language_info": {
   "codemirror_mode": {
    "name": "ipython",
    "version": 3
   },
   "file_extension": ".py",
   "mimetype": "text/x-python",
   "name": "python",
   "nbconvert_exporter": "python",
   "pygments_lexer": "ipython3",
   "version": "3.9.7"
  }
 },
 "nbformat": 4,
 "nbformat_minor": 5
}
